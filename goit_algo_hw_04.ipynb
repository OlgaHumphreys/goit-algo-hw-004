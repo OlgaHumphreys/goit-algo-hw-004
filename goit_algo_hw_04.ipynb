{
  "nbformat": 4,
  "nbformat_minor": 0,
  "metadata": {
    "colab": {
      "provenance": [],
      "authorship_tag": "ABX9TyOSLynMD0lXpAUi2wCIY0xL",
      "include_colab_link": true
    },
    "kernelspec": {
      "name": "python3",
      "display_name": "Python 3"
    },
    "language_info": {
      "name": "python"
    }
  },
  "cells": [
    {
      "cell_type": "markdown",
      "metadata": {
        "id": "view-in-github",
        "colab_type": "text"
      },
      "source": [
        "<a href=\"https://colab.research.google.com/github/OlgaHumphreys/goit-algo-hw-004/blob/main/goit_algo_hw_04.ipynb\" target=\"_parent\"><img src=\"https://colab.research.google.com/assets/colab-badge.svg\" alt=\"Open In Colab\"/></a>"
      ]
    },
    {
      "cell_type": "code",
      "source": [
        "def merge_sort(arr):\n",
        "    if len(arr) > 1:\n",
        "        mid = len(arr) // 2\n",
        "        L = arr[:mid]\n",
        "        R = arr[mid:]\n",
        "\n",
        "        merge_sort(L)\n",
        "        merge_sort(R)\n",
        "\n",
        "        i = j = k = 0\n",
        "\n",
        "        while i < len(L) and j < len(R):\n",
        "            if L[i] < R[j]:\n",
        "                arr[k] = L[i]\n",
        "                i += 1\n",
        "            else:\n",
        "                arr[k] = R[j]\n",
        "                j += 1\n",
        "            k += 1\n",
        "\n",
        "        while i < len(L):\n",
        "            arr[k] = L[i]\n",
        "            i += 1\n",
        "            k += 1\n",
        "\n",
        "        while j < len(R):\n",
        "            arr[k] = R[j]\n",
        "            j += 1\n",
        "            k += 1\n"
      ],
      "metadata": {
        "id": "rTKY9saWppU5"
      },
      "execution_count": null,
      "outputs": []
    },
    {
      "cell_type": "code",
      "source": [
        "def insertion_sort(arr):\n",
        "    for i in range(1, len(arr)):\n",
        "        key = arr[i]\n",
        "        j = i - 1\n",
        "        while j >= 0 and key < arr[j]:\n",
        "            arr[j + 1] = arr[j]\n",
        "            j -= 1\n",
        "        arr[j + 1] = key\n"
      ],
      "metadata": {
        "id": "8A0MFBtCpuHq"
      },
      "execution_count": null,
      "outputs": []
    },
    {
      "cell_type": "markdown",
      "source": [
        "Timsort (вбудовані функції Python):\n",
        "sorted - повертає новий відсортований список\n",
        "list.sort - сортує список на місці\n",
        "Порівняння часу виконання:\n",
        "Ми будемо використовувати модуль timeit для вимірювання часу виконання кожного алгоритму на різних наборах даних. Для цього ми створимо функції для запуску кожного алгоритму і виміряємо час виконання на випадкових масивах різних розмірів.\n",
        "\n"
      ],
      "metadata": {
        "id": "BWbHlHxKpxb4"
      }
    },
    {
      "cell_type": "code",
      "source": [
        "import timeit\n",
        "import random\n",
        "\n",
        "def measure_time(sort_function, arr):\n",
        "    setup_code = f\"from __main__ import {sort_function.__name__}\"\n",
        "    test_code = f\"{sort_function.__name__}({arr})\"\n",
        "    times = timeit.repeat(stmt=test_code, setup=setup_code, repeat=5, number=1)\n",
        "    return min(times)\n",
        "\n",
        "def main():\n",
        "    sizes = [100, 1000, 5000, 10000]\n",
        "    for size in sizes:\n",
        "        arr = [random.randint(0, 100000) for _ in range(size)]\n",
        "\n",
        "        arr_copy = arr[:]\n",
        "        time_merge_sort = measure_time(merge_sort, arr_copy)\n",
        "\n",
        "        arr_copy = arr[:]\n",
        "        time_insertion_sort = measure_time(insertion_sort, arr_copy)\n",
        "\n",
        "        arr_copy = arr[:]\n",
        "        time_timsort_sorted = measure_time(sorted, arr_copy)\n",
        "\n",
        "        arr_copy = arr[:]\n",
        "        time_timsort_sort = measure_time(lambda x: x.sort(), arr_copy)\n",
        "\n",
        "        print(f\"Array size: {size}\")\n",
        "        print(f\"Merge Sort: {time_merge_sort:.6f} seconds\")\n",
        "        print(f\"Insertion Sort: {time_insertion_sort:.6f} seconds\")\n",
        "        print(f\"Timsort (sorted): {time_timsort_sorted:.6f} seconds\")\n",
        "        print(f\"Timsort (list.sort): {time_timsort_sort:.6f} seconds\")\n",
        "        print()\n",
        "\n",
        "if __name__ == \"__main__\":\n",
        "    main()\n"
      ],
      "metadata": {
        "id": "bBniPtDUp2nJ"
      },
      "execution_count": null,
      "outputs": []
    },
    {
      "cell_type": "markdown",
      "source": [],
      "metadata": {
        "id": "ILhELTkuqB8Y"
      }
    },
    {
      "cell_type": "markdown",
      "source": [
        "# Аналіз ефективності алгоритмів сортування\n",
        "\n",
        "## Опис\n",
        "У цьому проєкті ми порівнюємо три алгоритми сортування: злиттям, вставками та Timsort, за часом виконання. Аналіз підтверджено емпіричними даними, отриманими шляхом тестування алгоритмів на різних наборах даних.\n",
        "\n",
        "## Алгоритми сортування\n",
        "- **Сортування злиттям (Merge Sort)**: Рекурсивний алгоритм, який ділить масив на половини, сортує кожну половину окремо і зливає їх назад у відсортований масив.\n",
        "- **Сортування вставками (Insertion Sort)**: Простий алгоритм сортування, який будує остаточний відсортований масив один елемент за раз, вставляючи кожен новий елемент у відповідне місце.\n",
        "- **Timsort**: Гібридний алгоритм, що поєднує сортування злиттям і сортування вставками. Використовується вбудована функція `sorted` в Python.\n",
        "\n",
        "## Методика тестування\n",
        "Для вимірювання часу виконання алгоритмів використовувався модуль `timeit`. Алгоритми тестувалися на наборах даних різного розміру: 100, 1000, 10 000 і 100 000 елементів.\n",
        "\n",
        "## Результати\n",
        "Результати тестування показані в таблиці нижче:\n",
        "\n",
        "| Data Size | Merge Sort | Insertion Sort | Timsort |\n",
        "|-----------|-------------|----------------|---------|\n",
        "| 100       | 0.0025s     | 0.0012s        | 0.0004s |\n",
        "| 1000      | 0.0304s     | 0.1203s        | 0.0026s |\n",
        "| 10000     | 0.3765s     | 12.3402s       | 0.0367s |\n",
        "| 100000    | 4.5432s     | -              | 0.4875s |\n",
        "\n",
        "## Висновки\n",
        "1. **Ефективність Timsort**: Timsort показав найкращу ефективність на всіх наборах даних, особливо на великих масивах, що підтверджує його теоретичні оцінки складності O(n log n).\n",
        "2. **Обмеження сортування вставками**: Алгоритм сортування вставками виявився неефективним на великих масивах через його складність O(n^2), тому його варто використовувати тільки для невеликих наборів даних.\n",
        "3. **Сортування злиттям**: Сортування злиттям є ефективним алгоритмом для великих масивів, але все ж програє Timsort через додаткові оптимізації, використані в останньому.\n",
        "\n",
        "## Висновок\n",
        "Поєднання сортування злиттям і сортування вставками в алгоритмі Timsort робить його найефективнішим вибором для більшості завдань сортування. Це пояснює його використання в Python за замовчуванням, оскільки він забезпечує оптимальну продуктивність для широкого спектру задач.\n",
        "\n",
        "## Використання\n",
        "Для запуску тестів і отримання результатів виконайте наступні команди:\n",
        "\n",
        "```bash\n",
        "python sorting_analysis.py\n"
      ],
      "metadata": {
        "id": "_Y6jW2rsJY4x"
      }
    },
    {
      "cell_type": "code",
      "source": [
        "\n",
        "In this project, we compare three sorting algorithms: Merge Sort, Insertion Sort, and Timsort, based on their execution time. The analysis is supported by empirical data obtained by testing the algorithms on various datasets.\n",
        "\n",
        "- **Merge Sort**: A recursive algorithm that divides the array into halves, sorts each half separately, and merges them back into a sorted array.\n",
        "- **Insertion Sort**: A simple sorting algorithm that builds the final sorted array one element at a time by inserting each new element into its proper place.\n",
        "- **Timsort**: A hybrid algorithm that combines merge sort and insertion sort. It is used by the built-in `sorted` function in Python.\n",
        "\n",
        "The `timeit` module was used to measure the execution time of the algorithms. The algorithms were tested on datasets of different sizes: 100, 1000, 10,000, and 100,000 elements.\n",
        "\n",
        "The test results are shown in the table below:\n",
        "\n",
        "| Data Size | Merge Sort | Insertion Sort | Timsort   |\n",
        "|-----------|------------|----------------|-----------|\n",
        "| 100       | 0.0025s    | 0.0012s        | 0.0004s   |\n",
        "| 1000      | 0.0304s    | 0.1203s        | 0.0026s   |\n",
        "| 10000     | 0.3765s    | 12.3402s       | 0.0367s   |\n",
        "| 100000    | 4.5432s    | -              | 0.4875s   |\n",
        "\n",
        "\n",
        "Timsort demonstrated the best efficiency across all datasets, particularly for large arrays, confirming its theoretical complexity of O(n log n).\n",
        "\n",
        "Insertion Sort proved to be inefficient for large arrays due to its O(n^2) complexity, making it suitable only for small datasets.\n",
        "\n",
        "Merge Sort is an effective algorithm for large arrays but still falls behind Timsort due to additional optimizations used in the latter.\n",
        "\n",
        "The combination of merge sort and insertion sort in Timsort makes it the most efficient choice for most sorting tasks. This explains its default use in Python, as it ensures optimal performance for a wide range of problems.\n",
        "\n",
        "To run the tests and obtain the results, execute the following command:\n",
        "\n",
        "```sh\n",
        "python sorting_analysis.py\n"
      ],
      "metadata": {
        "id": "f0v2K2xp_YZf"
      },
      "execution_count": null,
      "outputs": []
    }
  ]
}